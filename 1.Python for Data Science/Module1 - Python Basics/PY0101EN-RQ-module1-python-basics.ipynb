{
  "metadata": {
    "language_info": {
      "codemirror_mode": {
        "name": "python",
        "version": 3
      },
      "file_extension": ".py",
      "mimetype": "text/x-python",
      "name": "python",
      "nbconvert_exporter": "python",
      "pygments_lexer": "ipython3",
      "version": "3.8"
    },
    "kernelspec": {
      "name": "python",
      "display_name": "Pyolite",
      "language": "python"
    }
  },
  "nbformat_minor": 4,
  "nbformat": 4,
  "cells": [
    {
      "cell_type": "markdown",
      "source": "<h1 id=\"strings\">Module 1 - Python Basics</h1>\n\nReview Questions",
      "metadata": {}
    },
    {
      "cell_type": "markdown",
      "source": "<h2 id=\"strings\">Review Question 1</h2>\n\nWhat is the result of the following operation in Python:",
      "metadata": {}
    },
    {
      "cell_type": "code",
      "source": "p = 3 + 2 * 2\nprint(p)",
      "metadata": {
        "trusted": true
      },
      "execution_count": 1,
      "outputs": [
        {
          "name": "stdout",
          "text": "7\n",
          "output_type": "stream"
        }
      ]
    },
    {
      "cell_type": "markdown",
      "source": "<h2 id=\"strings\">Review Question 2</h2>\n\nIn Python, if you executed name = 'Lizz', what would be the output of print(name[0:2])?",
      "metadata": {}
    },
    {
      "cell_type": "code",
      "source": "name = 'Lizz'\nprint(name[0:2])",
      "metadata": {
        "trusted": true
      },
      "execution_count": 4,
      "outputs": [
        {
          "name": "stdout",
          "text": "Li\n",
          "output_type": "stream"
        }
      ]
    },
    {
      "cell_type": "markdown",
      "source": "<h2 id=\"strings\">Review Question 3</h2>\n\nIn Python, if you executed var = '01234567', what would be the result of print(var[::2])?",
      "metadata": {}
    },
    {
      "cell_type": "code",
      "source": "var = '01234567'\nprint(var[::2])",
      "metadata": {
        "trusted": true
      },
      "execution_count": 5,
      "outputs": [
        {
          "name": "stdout",
          "text": "0246\n",
          "output_type": "stream"
        }
      ]
    },
    {
      "cell_type": "markdown",
      "source": "<h2 id=\"strings\">Review Question 4</h2>\n\nIn Python, what is the result of the following operation '1'+'2'?",
      "metadata": {}
    },
    {
      "cell_type": "code",
      "source": "var = '1'+'2'\nprint(var)",
      "metadata": {
        "trusted": true
      },
      "execution_count": 6,
      "outputs": [
        {
          "name": "stdout",
          "text": "12\n",
          "output_type": "stream"
        }
      ]
    },
    {
      "cell_type": "markdown",
      "source": "<h2 id=\"strings\">Review Question 5</h2>\n​\nGiven myvar = 'hello', how would you convert myvar into uppercase?",
      "metadata": {}
    },
    {
      "cell_type": "code",
      "source": "myvar = 'hello'\nmyvar.upper()",
      "metadata": {
        "trusted": true
      },
      "execution_count": 7,
      "outputs": [
        {
          "execution_count": 7,
          "output_type": "execute_result",
          "data": {
            "text/plain": "'HELLO'"
          },
          "metadata": {}
        }
      ]
    }
  ]
}